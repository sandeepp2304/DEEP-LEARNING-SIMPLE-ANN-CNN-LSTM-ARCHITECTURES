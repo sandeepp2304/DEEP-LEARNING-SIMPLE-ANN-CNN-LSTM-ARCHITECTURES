{
 "cells": [
  {
   "cell_type": "code",
   "execution_count": 1,
   "metadata": {},
   "outputs": [],
   "source": [
    "import os"
   ]
  },
  {
   "cell_type": "code",
   "execution_count": 3,
   "metadata": {},
   "outputs": [
    {
     "data": {
      "text/plain": [
       "'C:\\\\Users\\\\HP\\\\002.MACHINE LEARNING\\\\08.DEEP LEARNING'"
      ]
     },
     "execution_count": 3,
     "metadata": {},
     "output_type": "execute_result"
    }
   ],
   "source": [
    "os.getcwd()"
   ]
  },
  {
   "cell_type": "code",
   "execution_count": 4,
   "metadata": {},
   "outputs": [],
   "source": [
    "os.chdir(\"C:\\\\Users\\\\HP\\\\Desktop\\\\ML DATASETS\")"
   ]
  },
  {
   "cell_type": "code",
   "execution_count": 5,
   "metadata": {},
   "outputs": [
    {
     "data": {
      "text/plain": [
       "'C:\\\\Users\\\\HP\\\\Desktop\\\\ML DATASETS'"
      ]
     },
     "execution_count": 5,
     "metadata": {},
     "output_type": "execute_result"
    }
   ],
   "source": [
    "os.getcwd()"
   ]
  },
  {
   "cell_type": "code",
   "execution_count": 6,
   "metadata": {},
   "outputs": [],
   "source": [
    "#************************** Artificial Neural Network"
   ]
  },
  {
   "cell_type": "code",
   "execution_count": 7,
   "metadata": {},
   "outputs": [],
   "source": [
    "# Part 1 - Data Preprocessing\n",
    "# Importing the libraries\n",
    "import numpy as np\n",
    "import matplotlib.pyplot as plt\n",
    "import pandas as pd"
   ]
  },
  {
   "cell_type": "code",
   "execution_count": 8,
   "metadata": {},
   "outputs": [],
   "source": [
    "# Importing the dataset\n",
    "dataset = pd.read_csv('Churn_Modelling.csv')\n",
    "X = dataset.iloc[:, 3:13].values\n",
    "y = dataset.iloc[:, 13].values"
   ]
  },
  {
   "cell_type": "code",
   "execution_count": 9,
   "metadata": {},
   "outputs": [],
   "source": [
    "# Encoding categorical data\n",
    "from sklearn.preprocessing import LabelEncoder, OneHotEncoder\n",
    "labelencoder_X_1 = LabelEncoder()\n",
    "X[:, 1] = labelencoder_X_1.fit_transform(X[:, 1])\n",
    "labelencoder_X_2 = LabelEncoder()\n",
    "X[:, 2] = labelencoder_X_2.fit_transform(X[:, 2])\n",
    "onehotencoder = OneHotEncoder(categorical_features = [1])\n",
    "X = onehotencoder.fit_transform(X).toarray()\n",
    "X = X[:, 1:]"
   ]
  },
  {
   "cell_type": "code",
   "execution_count": 11,
   "metadata": {},
   "outputs": [],
   "source": [
    "# Splitting the dataset into the Training set and Test set\n",
    "from sklearn.model_selection import train_test_split\n",
    "X_train, X_test, y_train, y_test = train_test_split(X, y, test_size = 0.2, random_state = 0)"
   ]
  },
  {
   "cell_type": "code",
   "execution_count": 12,
   "metadata": {},
   "outputs": [],
   "source": [
    "# Feature Scaling\n",
    "from sklearn.preprocessing import StandardScaler\n",
    "sc = StandardScaler()\n",
    "X_train = sc.fit_transform(X_train)\n",
    "X_test = sc.transform(X_test)"
   ]
  },
  {
   "cell_type": "code",
   "execution_count": null,
   "metadata": {},
   "outputs": [],
   "source": [
    "#***********************classification****************88"
   ]
  },
  {
   "cell_type": "code",
   "execution_count": 16,
   "metadata": {},
   "outputs": [],
   "source": [
    "#model fitting\n",
    "from sklearn.linear_model import LogisticRegression\n",
    "lg_reg=LogisticRegression()\n",
    "lg_reg.fit(X_train,y_train)\n",
    "y_pred=lg_reg.predict(X_test)"
   ]
  },
  {
   "cell_type": "code",
   "execution_count": 17,
   "metadata": {},
   "outputs": [
    {
     "name": "stdout",
     "output_type": "stream",
     "text": [
      "****** report on test data********************************\n",
      "0.811\n",
      "[[1526  309]\n",
      " [  69   96]]\n",
      "             precision    recall  f1-score   support\n",
      "\n",
      "          0       0.96      0.83      0.89      1835\n",
      "          1       0.24      0.58      0.34       165\n",
      "\n",
      "avg / total       0.90      0.81      0.84      2000\n",
      "\n"
     ]
    }
   ],
   "source": [
    "#confusion matrix\n",
    "from sklearn.metrics import confusion_matrix,accuracy_score,classification_report\n",
    "print(\"****** report on test data********************************\")\n",
    "print(accuracy_score(y_pred,y_test))\n",
    "print(confusion_matrix(y_pred,y_test))\n",
    "print(classification_report(y_pred,y_test))\n",
    "\n"
   ]
  },
  {
   "cell_type": "code",
   "execution_count": null,
   "metadata": {},
   "outputs": [],
   "source": [
    "#******************end of Classification****************"
   ]
  },
  {
   "cell_type": "code",
   "execution_count": 15,
   "metadata": {},
   "outputs": [
    {
     "name": "stderr",
     "output_type": "stream",
     "text": [
      "C:\\Users\\HP\\Anaconda3\\lib\\site-packages\\h5py\\__init__.py:36: FutureWarning: Conversion of the second argument of issubdtype from `float` to `np.floating` is deprecated. In future, it will be treated as `np.float64 == np.dtype(float).type`.\n",
      "  from ._conv import register_converters as _register_converters\n",
      "Using TensorFlow backend.\n"
     ]
    }
   ],
   "source": [
    "#****************************88 Part 2 - Now let's make the ANN!\n",
    "\n",
    "# Importing the Keras libraries and packages\n",
    "import keras\n",
    "from keras.models import Sequential\n",
    "from keras.layers import Dense\n"
   ]
  },
  {
   "cell_type": "code",
   "execution_count": 18,
   "metadata": {},
   "outputs": [],
   "source": [
    "# Initialising the ANN\n",
    "classifier = Sequential()"
   ]
  },
  {
   "cell_type": "code",
   "execution_count": 21,
   "metadata": {},
   "outputs": [
    {
     "name": "stderr",
     "output_type": "stream",
     "text": [
      "C:\\Users\\HP\\Anaconda3\\lib\\site-packages\\ipykernel_launcher.py:2: UserWarning: Update your `Dense` call to the Keras 2 API: `Dense(activation=\"relu\", input_dim=11, units=6, kernel_initializer=\"uniform\")`\n",
      "  \n"
     ]
    }
   ],
   "source": [
    "# Adding the input layer and the first hidden layer\n",
    "classifier.add(Dense(output_dim = 6, init = 'uniform', activation = 'relu', input_dim = 11))"
   ]
  },
  {
   "cell_type": "code",
   "execution_count": 22,
   "metadata": {},
   "outputs": [
    {
     "name": "stderr",
     "output_type": "stream",
     "text": [
      "C:\\Users\\HP\\Anaconda3\\lib\\site-packages\\ipykernel_launcher.py:2: UserWarning: Update your `Dense` call to the Keras 2 API: `Dense(activation=\"relu\", units=6, kernel_initializer=\"uniform\")`\n",
      "  \n"
     ]
    }
   ],
   "source": [
    "# Adding the second hidden layer\n",
    "classifier.add(Dense(output_dim = 6, init = 'uniform', activation = 'relu'))"
   ]
  },
  {
   "cell_type": "code",
   "execution_count": 23,
   "metadata": {},
   "outputs": [
    {
     "name": "stderr",
     "output_type": "stream",
     "text": [
      "C:\\Users\\HP\\Anaconda3\\lib\\site-packages\\ipykernel_launcher.py:2: UserWarning: Update your `Dense` call to the Keras 2 API: `Dense(activation=\"sigmoid\", units=1, kernel_initializer=\"uniform\")`\n",
      "  \n"
     ]
    }
   ],
   "source": [
    "# Adding the output layer\n",
    "classifier.add(Dense(output_dim = 1, init = 'uniform', activation = 'sigmoid'))\n"
   ]
  },
  {
   "cell_type": "code",
   "execution_count": 24,
   "metadata": {},
   "outputs": [],
   "source": [
    "# Compiling the ANN\n",
    "classifier.compile(optimizer = 'adam', loss = 'binary_crossentropy', metrics = ['accuracy'])"
   ]
  },
  {
   "cell_type": "code",
   "execution_count": 25,
   "metadata": {},
   "outputs": [
    {
     "name": "stderr",
     "output_type": "stream",
     "text": [
      "C:\\Users\\HP\\Anaconda3\\lib\\site-packages\\ipykernel_launcher.py:2: UserWarning: The `nb_epoch` argument in `fit` has been renamed `epochs`.\n",
      "  \n"
     ]
    },
    {
     "name": "stdout",
     "output_type": "stream",
     "text": [
      "Epoch 1/100\n",
      "8000/8000 [==============================] - 8s 945us/step - loss: 0.4791 - acc: 0.7960\n",
      "Epoch 2/100\n",
      "8000/8000 [==============================] - 4s 480us/step - loss: 0.4297 - acc: 0.7960\n",
      "Epoch 3/100\n",
      "8000/8000 [==============================] - 3s 374us/step - loss: 0.4236 - acc: 0.8005\n",
      "Epoch 4/100\n",
      "8000/8000 [==============================] - 2s 302us/step - loss: 0.4196 - acc: 0.8229\n",
      "Epoch 5/100\n",
      "8000/8000 [==============================] - 3s 321us/step - loss: 0.4165 - acc: 0.8280\n",
      "Epoch 6/100\n",
      "8000/8000 [==============================] - 2s 264us/step - loss: 0.4153 - acc: 0.8287\n",
      "Epoch 7/100\n",
      "8000/8000 [==============================] - 2s 231us/step - loss: 0.4128 - acc: 0.8315\n",
      "Epoch 8/100\n",
      "8000/8000 [==============================] - 1s 186us/step - loss: 0.4113 - acc: 0.8316\n",
      "Epoch 9/100\n",
      "8000/8000 [==============================] - 2s 192us/step - loss: 0.4105 - acc: 0.8350\n",
      "Epoch 10/100\n",
      "8000/8000 [==============================] - 2s 203us/step - loss: 0.4095 - acc: 0.8335\n",
      "Epoch 11/100\n",
      "8000/8000 [==============================] - 1s 163us/step - loss: 0.4081 - acc: 0.8350\n",
      "Epoch 12/100\n",
      "8000/8000 [==============================] - 1s 164us/step - loss: 0.4080 - acc: 0.8337\n",
      "Epoch 13/100\n",
      "8000/8000 [==============================] - 1s 161us/step - loss: 0.4075 - acc: 0.8339\n",
      "Epoch 14/100\n",
      "8000/8000 [==============================] - 1s 162us/step - loss: 0.4063 - acc: 0.8346\n",
      "Epoch 15/100\n",
      "8000/8000 [==============================] - 1s 160us/step - loss: 0.4055 - acc: 0.8350\n",
      "Epoch 16/100\n",
      "8000/8000 [==============================] - 1s 161us/step - loss: 0.4055 - acc: 0.8349\n",
      "Epoch 17/100\n",
      "8000/8000 [==============================] - 1s 162us/step - loss: 0.4045 - acc: 0.8340\n",
      "Epoch 18/100\n",
      "8000/8000 [==============================] - 1s 161us/step - loss: 0.4041 - acc: 0.8362\n",
      "Epoch 19/100\n",
      "8000/8000 [==============================] - 1s 161us/step - loss: 0.4035 - acc: 0.8357\n",
      "Epoch 20/100\n",
      "8000/8000 [==============================] - 1s 161us/step - loss: 0.4034 - acc: 0.8354\n",
      "Epoch 21/100\n",
      "8000/8000 [==============================] - 1s 160us/step - loss: 0.4027 - acc: 0.8359\n",
      "Epoch 22/100\n",
      "8000/8000 [==============================] - 1s 161us/step - loss: 0.4025 - acc: 0.8364\n",
      "Epoch 23/100\n",
      "8000/8000 [==============================] - 1s 161us/step - loss: 0.4017 - acc: 0.8354\n",
      "Epoch 24/100\n",
      "8000/8000 [==============================] - 1s 161us/step - loss: 0.4013 - acc: 0.8350\n",
      "Epoch 25/100\n",
      "8000/8000 [==============================] - 1s 161us/step - loss: 0.4018 - acc: 0.8354\n",
      "Epoch 26/100\n",
      "8000/8000 [==============================] - 1s 161us/step - loss: 0.4010 - acc: 0.8355\n",
      "Epoch 27/100\n",
      "8000/8000 [==============================] - 1s 161us/step - loss: 0.3994 - acc: 0.8349\n",
      "Epoch 28/100\n",
      "8000/8000 [==============================] - 1s 161us/step - loss: 0.3998 - acc: 0.8372\n",
      "Epoch 29/100\n",
      "8000/8000 [==============================] - 1s 160us/step - loss: 0.3991 - acc: 0.8345\n",
      "Epoch 30/100\n",
      "8000/8000 [==============================] - 1s 161us/step - loss: 0.3991 - acc: 0.8375\n",
      "Epoch 31/100\n",
      "8000/8000 [==============================] - 1s 161us/step - loss: 0.3995 - acc: 0.8365\n",
      "Epoch 32/100\n",
      "8000/8000 [==============================] - 2s 197us/step - loss: 0.3996 - acc: 0.8350\n",
      "Epoch 33/100\n",
      "8000/8000 [==============================] - 1s 163us/step - loss: 0.3990 - acc: 0.8370\n",
      "Epoch 34/100\n",
      "8000/8000 [==============================] - 1s 151us/step - loss: 0.3983 - acc: 0.8344\n",
      "Epoch 35/100\n",
      "8000/8000 [==============================] - 1s 170us/step - loss: 0.3986 - acc: 0.8349\n",
      "Epoch 36/100\n",
      "8000/8000 [==============================] - 2s 201us/step - loss: 0.3986 - acc: 0.8359\n",
      "Epoch 37/100\n",
      "8000/8000 [==============================] - 1s 181us/step - loss: 0.3982 - acc: 0.8354\n",
      "Epoch 38/100\n",
      "8000/8000 [==============================] - 1s 179us/step - loss: 0.3971 - acc: 0.8369\n",
      "Epoch 39/100\n",
      "8000/8000 [==============================] - 1s 180us/step - loss: 0.3983 - acc: 0.8357\n",
      "Epoch 40/100\n",
      "8000/8000 [==============================] - 1s 187us/step - loss: 0.3974 - acc: 0.8357\n",
      "Epoch 41/100\n",
      "8000/8000 [==============================] - 1s 179us/step - loss: 0.3976 - acc: 0.8371\n",
      "Epoch 42/100\n",
      "8000/8000 [==============================] - 1s 180us/step - loss: 0.3973 - acc: 0.8345\n",
      "Epoch 43/100\n",
      "8000/8000 [==============================] - 1s 180us/step - loss: 0.3982 - acc: 0.8342\n",
      "Epoch 44/100\n",
      "8000/8000 [==============================] - 1s 181us/step - loss: 0.3971 - acc: 0.8370\n",
      "Epoch 45/100\n",
      "8000/8000 [==============================] - 1s 179us/step - loss: 0.3971 - acc: 0.8367\n",
      "Epoch 46/100\n",
      "8000/8000 [==============================] - 1s 179us/step - loss: 0.3973 - acc: 0.8364\n",
      "Epoch 47/100\n",
      "8000/8000 [==============================] - 1s 182us/step - loss: 0.3970 - acc: 0.8359\n",
      "Epoch 48/100\n",
      "8000/8000 [==============================] - 1s 178us/step - loss: 0.3966 - acc: 0.8362\n",
      "Epoch 49/100\n",
      "8000/8000 [==============================] - 1s 180us/step - loss: 0.3970 - acc: 0.8360\n",
      "Epoch 50/100\n",
      "8000/8000 [==============================] - 2s 188us/step - loss: 0.3970 - acc: 0.8356\n",
      "Epoch 51/100\n",
      "8000/8000 [==============================] - 2s 198us/step - loss: 0.3965 - acc: 0.8360\n",
      "Epoch 52/100\n",
      "8000/8000 [==============================] - 2s 202us/step - loss: 0.3966 - acc: 0.8369\n",
      "Epoch 53/100\n",
      "8000/8000 [==============================] - ETA: 0s - loss: 0.3953 - acc: 0.837 - 2s 195us/step - loss: 0.3962 - acc: 0.8365\n",
      "Epoch 54/100\n",
      "8000/8000 [==============================] - 1s 159us/step - loss: 0.3964 - acc: 0.8366\n",
      "Epoch 55/100\n",
      "8000/8000 [==============================] - 1s 165us/step - loss: 0.3961 - acc: 0.8364\n",
      "Epoch 56/100\n",
      "8000/8000 [==============================] - 1s 155us/step - loss: 0.3958 - acc: 0.8367\n",
      "Epoch 57/100\n",
      "8000/8000 [==============================] - 1s 164us/step - loss: 0.3957 - acc: 0.8387\n",
      "Epoch 58/100\n",
      "8000/8000 [==============================] - 1s 152us/step - loss: 0.3960 - acc: 0.8370\n",
      "Epoch 59/100\n",
      "8000/8000 [==============================] - 1s 159us/step - loss: 0.3957 - acc: 0.8375\n",
      "Epoch 60/100\n",
      "8000/8000 [==============================] - 1s 164us/step - loss: 0.3958 - acc: 0.8381\n",
      "Epoch 61/100\n",
      "8000/8000 [==============================] - 1s 180us/step - loss: 0.3956 - acc: 0.8364\n",
      "Epoch 62/100\n",
      "8000/8000 [==============================] - 1s 187us/step - loss: 0.3956 - acc: 0.8395\n",
      "Epoch 63/100\n",
      "8000/8000 [==============================] - 2s 194us/step - loss: 0.3957 - acc: 0.8365\n",
      "Epoch 64/100\n",
      "8000/8000 [==============================] - 2s 202us/step - loss: 0.3962 - acc: 0.8380\n",
      "Epoch 65/100\n",
      "8000/8000 [==============================] - 2s 198us/step - loss: 0.3955 - acc: 0.8372\n",
      "Epoch 66/100\n",
      "8000/8000 [==============================] - 2s 195us/step - loss: 0.3962 - acc: 0.8354\n",
      "Epoch 67/100\n",
      "8000/8000 [==============================] - 2s 196us/step - loss: 0.3959 - acc: 0.8386\n",
      "Epoch 68/100\n",
      "8000/8000 [==============================] - 2s 195us/step - loss: 0.3956 - acc: 0.8380\n",
      "Epoch 69/100\n",
      "8000/8000 [==============================] - 2s 215us/step - loss: 0.3955 - acc: 0.8366\n",
      "Epoch 70/100\n",
      "8000/8000 [==============================] - 2s 192us/step - loss: 0.3962 - acc: 0.8367\n",
      "Epoch 71/100\n",
      "8000/8000 [==============================] - 2s 196us/step - loss: 0.3962 - acc: 0.8366\n",
      "Epoch 72/100\n",
      "8000/8000 [==============================] - 2s 199us/step - loss: 0.3955 - acc: 0.8374\n",
      "Epoch 73/100\n",
      "8000/8000 [==============================] - 2s 197us/step - loss: 0.3953 - acc: 0.8366\n",
      "Epoch 74/100\n",
      "8000/8000 [==============================] - 2s 197us/step - loss: 0.3955 - acc: 0.8376\n",
      "Epoch 75/100\n",
      "8000/8000 [==============================] - 2s 197us/step - loss: 0.3956 - acc: 0.8379\n",
      "Epoch 76/100\n",
      "8000/8000 [==============================] - 2s 196us/step - loss: 0.3946 - acc: 0.8384\n",
      "Epoch 77/100\n",
      "8000/8000 [==============================] - 2s 196us/step - loss: 0.3946 - acc: 0.8365\n",
      "Epoch 78/100\n",
      "8000/8000 [==============================] - 2s 194us/step - loss: 0.3955 - acc: 0.8364\n",
      "Epoch 79/100\n",
      "8000/8000 [==============================] - 2s 195us/step - loss: 0.3949 - acc: 0.8376\n",
      "Epoch 80/100\n",
      "8000/8000 [==============================] - 2s 196us/step - loss: 0.3942 - acc: 0.8382\n",
      "Epoch 81/100\n"
     ]
    },
    {
     "name": "stdout",
     "output_type": "stream",
     "text": [
      "8000/8000 [==============================] - 1s 165us/step - loss: 0.3940 - acc: 0.8381\n",
      "Epoch 82/100\n",
      "8000/8000 [==============================] - 1s 162us/step - loss: 0.3936 - acc: 0.8394\n",
      "Epoch 83/100\n",
      "8000/8000 [==============================] - 1s 164us/step - loss: 0.3923 - acc: 0.8392\n",
      "Epoch 84/100\n",
      "8000/8000 [==============================] - 1s 165us/step - loss: 0.3882 - acc: 0.8417\n",
      "Epoch 85/100\n",
      "8000/8000 [==============================] - 1s 164us/step - loss: 0.3848 - acc: 0.8427\n",
      "Epoch 86/100\n",
      "8000/8000 [==============================] - 1s 161us/step - loss: 0.3799 - acc: 0.8416\n",
      "Epoch 87/100\n",
      "8000/8000 [==============================] - 2s 190us/step - loss: 0.3756 - acc: 0.8439\n",
      "Epoch 88/100\n",
      "8000/8000 [==============================] - 2s 209us/step - loss: 0.3713 - acc: 0.8427\n",
      "Epoch 89/100\n",
      "8000/8000 [==============================] - 1s 180us/step - loss: 0.3672 - acc: 0.8472\n",
      "Epoch 90/100\n",
      "8000/8000 [==============================] - 1s 182us/step - loss: 0.3635 - acc: 0.8485 1s -\n",
      "Epoch 91/100\n",
      "8000/8000 [==============================] - 1s 181us/step - loss: 0.3606 - acc: 0.8487\n",
      "Epoch 92/100\n",
      "8000/8000 [==============================] - 2s 195us/step - loss: 0.3564 - acc: 0.8527\n",
      "Epoch 93/100\n",
      "8000/8000 [==============================] - 1s 181us/step - loss: 0.3539 - acc: 0.8544\n",
      "Epoch 94/100\n",
      "8000/8000 [==============================] - 1s 179us/step - loss: 0.3509 - acc: 0.8541\n",
      "Epoch 95/100\n",
      "8000/8000 [==============================] - 1s 183us/step - loss: 0.3515 - acc: 0.8539 1s - \n",
      "Epoch 96/100\n",
      "8000/8000 [==============================] - 1s 179us/step - loss: 0.3506 - acc: 0.8561\n",
      "Epoch 97/100\n",
      "8000/8000 [==============================] - 2s 190us/step - loss: 0.3495 - acc: 0.8542\n",
      "Epoch 98/100\n",
      "8000/8000 [==============================] - 2s 198us/step - loss: 0.3490 - acc: 0.8560\n",
      "Epoch 99/100\n",
      "8000/8000 [==============================] - 2s 190us/step - loss: 0.3482 - acc: 0.8552\n",
      "Epoch 100/100\n",
      "8000/8000 [==============================] - 1s 184us/step - loss: 0.3487 - acc: 0.8541 0s - loss: 0.3458 - acc:\n"
     ]
    },
    {
     "data": {
      "text/plain": [
       "<keras.callbacks.History at 0xe162c82fd0>"
      ]
     },
     "execution_count": 25,
     "metadata": {},
     "output_type": "execute_result"
    }
   ],
   "source": [
    "# Fitting the ANN to the Training set\n",
    "classifier.fit(X_train, y_train, batch_size = 10, nb_epoch = 100)"
   ]
  },
  {
   "cell_type": "code",
   "execution_count": 31,
   "metadata": {},
   "outputs": [],
   "source": [
    "# Part 3 - Making the predictions and evaluating the model\n",
    "\n",
    "# Predicting the Test set results\n",
    "y_pred_1 = classifier.predict(X_test)\n",
    "y_pred_1 = (y_pred > 0.5)"
   ]
  },
  {
   "cell_type": "code",
   "execution_count": 32,
   "metadata": {},
   "outputs": [
    {
     "name": "stdout",
     "output_type": "stream",
     "text": [
      "****** report on test data********************************\n",
      "0.8565\n",
      "[[1507  199]\n",
      " [  88  206]]\n",
      "             precision    recall  f1-score   support\n",
      "\n",
      "      False       0.94      0.88      0.91      1706\n",
      "       True       0.51      0.70      0.59       294\n",
      "\n",
      "avg / total       0.88      0.86      0.87      2000\n",
      "\n"
     ]
    }
   ],
   "source": [
    "# Making the Confusion Matrix\n",
    "from sklearn.metrics import confusion_matrix,accuracy_score,classification_report\n",
    "print(\"****** report on test data********************************\")\n",
    "print(accuracy_score(y_pred_1,y_test))\n",
    "print(confusion_matrix(y_pred_1,y_test))\n",
    "print(classification_report(y_pred_1,y_test))\n",
    "\n"
   ]
  },
  {
   "cell_type": "code",
   "execution_count": null,
   "metadata": {},
   "outputs": [],
   "source": []
  }
 ],
 "metadata": {
  "kernelspec": {
   "display_name": "Python 3",
   "language": "python",
   "name": "python3"
  },
  "language_info": {
   "codemirror_mode": {
    "name": "ipython",
    "version": 3
   },
   "file_extension": ".py",
   "mimetype": "text/x-python",
   "name": "python",
   "nbconvert_exporter": "python",
   "pygments_lexer": "ipython3",
   "version": "3.6.5"
  }
 },
 "nbformat": 4,
 "nbformat_minor": 2
}
